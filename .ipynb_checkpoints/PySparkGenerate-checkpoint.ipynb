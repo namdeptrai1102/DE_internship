{
 "cells": [
  {
   "cell_type": "code",
   "execution_count": 57,
   "id": "7f834fa2",
   "metadata": {
    "scrolled": true
   },
   "outputs": [],
   "source": [
    "from pyspark.sql import SparkSession\n",
    "from pyspark.sql.types import StructType, StructField, StringType, IntegerType\n",
    "import random\n",
    "from faker import Faker"
   ]
  },
  {
   "cell_type": "code",
   "execution_count": 58,
   "id": "230361b6",
   "metadata": {},
   "outputs": [],
   "source": [
    "# Khởi tạo SparkSession sinh dữ liệu\n",
    "spark = SparkSession.builder.appName(\"Generate and Save Parquet Data\").getOrCreate()"
   ]
  },
  {
   "cell_type": "code",
   "execution_count": 59,
   "id": "0f15d59b",
   "metadata": {},
   "outputs": [],
   "source": [
    "# Tạo schema cho DataFrame\n",
    "schema = StructType([\n",
    "    StructField(\"Name\", StringType(), False),\n",
    "    StructField(\"Birthdate\", DateType(), False),\n",
    "    StructField(\"Address\", StringType(), False),\n",
    "    StructField(\"Gender\", StringType(), False)\n",
    "])"
   ]
  },
  {
   "cell_type": "code",
   "execution_count": null,
   "id": "0845e63e",
   "metadata": {},
   "outputs": [],
   "source": [
    "# Tạo danh sách chứa 100 bản ghi ngẫu nhiên\n",
    "fake = Faker()\n",
    "data = []\n",
    "for _ in range(1000000):\n",
    "    name = Faker().name()\n",
    "    birthdate = fake.date_of_birth(minimum_age=1, maximum_age=100)\n",
    "    address = fake.address()\n",
    "    gender = random.choice([\"Male\", \"Female\"])\n",
    "    record = (name, birthdate, address, gender)\n",
    "    data.append(record)"
   ]
  },
  {
   "cell_type": "code",
   "execution_count": null,
   "id": "25862c2f",
   "metadata": {},
   "outputs": [],
   "source": [
    "# Tạo DataFrame từ danh sách dữ liệu và schema\n",
    "df = spark.createDataFrame(data, schema=schema)"
   ]
  },
  {
   "cell_type": "code",
   "execution_count": null,
   "id": "9da3769e",
   "metadata": {},
   "outputs": [],
   "source": [
    "# Lưu DataFrame thành tệp Parquet\n",
    "parquet_output_path = \"/home/hoanghainam/DE_internship/output.parquet\"\n",
    "df.write.mode(\"overwrite\").parquet(parquet_output_path)"
   ]
  },
  {
   "cell_type": "code",
   "execution_count": null,
   "id": "64d3dea6",
   "metadata": {},
   "outputs": [],
   "source": [
    "# Đọc tệp Parquet và chuyển thành DataFrame\n",
    "parquet_file_path = \"/home/hoanghainam/DE_internship/output.parquet\"\n",
    "df = spark.read.parquet(parquet_file_path)"
   ]
  },
  {
   "cell_type": "code",
   "execution_count": null,
   "id": "28e02415",
   "metadata": {},
   "outputs": [],
   "source": [
    "# Hiển thị dữ liệu trong DataFrame\n",
    "df.show()"
   ]
  },
  {
   "cell_type": "code",
   "execution_count": 56,
   "id": "8df0ad7c",
   "metadata": {},
   "outputs": [],
   "source": [
    "# Dừng phiên làm việc Spark\n",
    "spark.stop()"
   ]
  },
  {
   "cell_type": "code",
   "execution_count": null,
   "id": "40a705da",
   "metadata": {},
   "outputs": [],
   "source": []
  }
 ],
 "metadata": {
  "kernelspec": {
   "display_name": "Python 3 (ipykernel)",
   "language": "python",
   "name": "python3"
  },
  "language_info": {
   "codemirror_mode": {
    "name": "ipython",
    "version": 3
   },
   "file_extension": ".py",
   "mimetype": "text/x-python",
   "name": "python",
   "nbconvert_exporter": "python",
   "pygments_lexer": "ipython3",
   "version": "3.10.12"
  }
 },
 "nbformat": 4,
 "nbformat_minor": 5
}
